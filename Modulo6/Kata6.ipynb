{
 "cells": [
  {
   "cell_type": "markdown",
   "metadata": {},
   "source": [
    "Ejercicio1: Crear y usar listas de Python"
   ]
  },
  {
   "cell_type": "code",
   "execution_count": 3,
   "metadata": {},
   "outputs": [
    {
     "name": "stdout",
     "output_type": "stream",
     "text": [
      "['Mercurio', 'Venus', 'Tierra', 'Marte', 'Jupiter', 'Saturno', 'Urano', 'Neptuno']\n",
      "Existen 9 planetas, y el último es Plutón\n"
     ]
    }
   ],
   "source": [
    "Planetas= [\"Mercurio\", \"Venus\", \"Tierra\", \"Marte\", \"Jupiter\", \"Saturno\", \"Urano\", \"Neptuno\"]\n",
    "print(Planetas)\n",
    "Planetas.append(\"Plutón\")\n",
    "print (\"Existen \" + str(len(Planetas)) +\" planetas, y el último es \" + Planetas[-1])"
   ]
  },
  {
   "cell_type": "markdown",
   "metadata": {},
   "source": [
    "Ejercicio 2: Trabajando con datos de una lista"
   ]
  },
  {
   "cell_type": "code",
   "execution_count": 5,
   "metadata": {},
   "outputs": [
    {
     "name": "stdout",
     "output_type": "stream",
     "text": [
      "Estos son los planetas mas cercanos al sol que Mercurio\n",
      "[]\n",
      "Estos son los planetas mas lejanos del sol que Mercurio\n",
      "['Venus', 'Tierra', 'Marte', 'Jupiter', 'Saturno', 'Urano', 'Neptuno']\n"
     ]
    }
   ],
   "source": [
    "Planetas= [\"Mercurio\", \"Venus\", \"Tierra\", \"Marte\", \"Jupiter\", \"Saturno\", \"Urano\", \"Neptuno\"]\n",
    "\n",
    "PlanetaElegido = input('Escriba el nombre de un planeta, comenzando con letra mayuscula: ')\n",
    "\n",
    "PlanetaBusqueda = Planetas.index(PlanetaElegido)\n",
    "\n",
    "print('Estos son los planetas mas cercanos al sol que ' + PlanetaElegido)\n",
    "print(Planetas[0:PlanetaBusqueda])\n",
    "\n",
    "print('Estos son los planetas mas lejanos del sol que ' + PlanetaElegido)\n",
    "print(Planetas[PlanetaBusqueda + 1:])"
   ]
  }
 ],
 "metadata": {
  "interpreter": {
   "hash": "beb694d10a678d68f256e08cbed308f31e2c5b970b1ae147a64590c745b620b9"
  },
  "kernelspec": {
   "display_name": "Python 3.10.2 64-bit (windows store)",
   "language": "python",
   "name": "python3"
  },
  "language_info": {
   "codemirror_mode": {
    "name": "ipython",
    "version": 3
   },
   "file_extension": ".py",
   "mimetype": "text/x-python",
   "name": "python",
   "nbconvert_exporter": "python",
   "pygments_lexer": "ipython3",
   "version": "3.10.2"
  },
  "orig_nbformat": 4
 },
 "nbformat": 4,
 "nbformat_minor": 2
}
