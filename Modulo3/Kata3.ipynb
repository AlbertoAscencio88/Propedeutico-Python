{
 "cells": [
  {
   "cell_type": "markdown",
   "metadata": {},
   "source": [
    "Ejercicio - Escribir declaraciones if, else, y elif"
   ]
  },
  {
   "cell_type": "code",
   "execution_count": 19,
   "metadata": {},
   "outputs": [
    {
     "name": "stdout",
     "output_type": "stream",
     "text": [
      "Un asteroide se acerca, y viaja a una velocidad de 49km/s\n"
     ]
    }
   ],
   "source": [
    "Velocidad=49\n",
    "if Velocidad>25:\n",
    "    print(\"Un asteroide se acerca, y viaja a una velocidad de \" + str(Velocidad)+ \"km/s\")\n",
    "else:\n",
    "    print(\"Sigue con tu vida\")"
   ]
  },
  {
   "cell_type": "code",
   "execution_count": 20,
   "metadata": {},
   "outputs": [
    {
     "name": "stdout",
     "output_type": "stream",
     "text": [
      "Ningún posible avistamiento\n"
     ]
    }
   ],
   "source": [
    "Velocidad=19\n",
    "if Velocidad>20:\n",
    "    print(\"¡Mira al cielo, un  asteroide!\")\n",
    "elif Velocidad == 20:\n",
    "    print(\"Es probable que veaz un asteroide\")\n",
    "else:\n",
    "    print(\"Ningún posible avistamiento\")"
   ]
  },
  {
   "cell_type": "markdown",
   "metadata": {},
   "source": [
    "Ejercicio: Uso de operadores and y or"
   ]
  },
  {
   "cell_type": "code",
   "execution_count": 23,
   "metadata": {},
   "outputs": [
    {
     "name": "stdout",
     "output_type": "stream",
     "text": [
      "Es probable que veaz un asteroide\n"
     ]
    }
   ],
   "source": [
    "Velocidad = 25\n",
    "Tamano = 40\n",
    "if Velocidad > 25 and Tamano > 25:\n",
    "    print(\"¡Mira al cielo, un peligroso asteroide!\")\n",
    "elif Velocidad >= 20:\n",
    "    print(\"Es probable que veaz un asteroide\")\n",
    "elif Tamano < 25:\n",
    "    print(\"Ningún posible avistamiento\")\n",
    "else:\n",
    "    print(\"Ningún posible avistamiento\")"
   ]
  }
 ],
 "metadata": {
  "interpreter": {
   "hash": "beb694d10a678d68f256e08cbed308f31e2c5b970b1ae147a64590c745b620b9"
  },
  "kernelspec": {
   "display_name": "Python 3.10.2 64-bit (windows store)",
   "language": "python",
   "name": "python3"
  },
  "language_info": {
   "codemirror_mode": {
    "name": "ipython",
    "version": 3
   },
   "file_extension": ".py",
   "mimetype": "text/x-python",
   "name": "python",
   "nbconvert_exporter": "python",
   "pygments_lexer": "ipython3",
   "version": "3.10.2"
  },
  "orig_nbformat": 4
 },
 "nbformat": 4,
 "nbformat_minor": 2
}
