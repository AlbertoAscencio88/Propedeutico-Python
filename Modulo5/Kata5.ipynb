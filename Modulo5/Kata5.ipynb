{
 "cells": [
  {
   "cell_type": "markdown",
   "metadata": {},
   "source": [
    "Ejercicio1 - Utilizar operadores aritméticos"
   ]
  },
  {
   "cell_type": "code",
   "execution_count": 2,
   "metadata": {},
   "outputs": [
    {
     "name": "stdout",
     "output_type": "stream",
     "text": [
      "628949330\n",
      "390577533.93\n"
     ]
    }
   ],
   "source": [
    "Tierra=149597870\n",
    "Jupiter=778547200\n",
    "\n",
    "Distancia=Jupiter - Tierra\n",
    "print(Distancia)\n",
    "Distanciamillas= Distancia * 0.621\n",
    "print(Distanciamillas)"
   ]
  },
  {
   "cell_type": "markdown",
   "metadata": {},
   "source": [
    "Ejercicio 2: convierte cadenas en números y usa valores absolutos"
   ]
  },
  {
   "cell_type": "code",
   "execution_count": 1,
   "metadata": {},
   "outputs": [
    {
     "name": "stdout",
     "output_type": "stream",
     "text": [
      "8194184\n",
      "5088588.264\n"
     ]
    }
   ],
   "source": [
    "Planeta1= input(\"introduzca la distancia del sol para el primer planeta en km\")\n",
    "Planeta2= input(\"introduzca la distancia del sol para al segundo planeta en km\")\n",
    "\n",
    "Planeta1= int(Planeta1)\n",
    "Planeta2= int(Planeta2)\n",
    "Distancia_km= Planeta2 - Planeta1\n",
    "print(Distancia_km)\n",
    "\n",
    "Distancia_millas= Distancia_km * 0.621\n",
    "print(abs(Distancia_millas))"
   ]
  }
 ],
 "metadata": {
  "interpreter": {
   "hash": "beb694d10a678d68f256e08cbed308f31e2c5b970b1ae147a64590c745b620b9"
  },
  "kernelspec": {
   "display_name": "Python 3.10.2 64-bit (windows store)",
   "language": "python",
   "name": "python3"
  },
  "language_info": {
   "codemirror_mode": {
    "name": "ipython",
    "version": 3
   },
   "file_extension": ".py",
   "mimetype": "text/x-python",
   "name": "python",
   "nbconvert_exporter": "python",
   "pygments_lexer": "ipython3",
   "version": "3.10.2"
  },
  "orig_nbformat": 4
 },
 "nbformat": 4,
 "nbformat_minor": 2
}
